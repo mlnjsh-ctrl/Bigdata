{
 "cells": [
  {
   "cell_type": "markdown",
   "metadata": {},
   "source": [
    "---\n",
    "\n",
    "<center><h1> Transformations & Action on Pair RDDs </h1></center>\n",
    "\n",
    "---\n",
    "\n",
    "\n",
    "Different types transformations and Actions on Paired RDDs.\n",
    "    \n",
    "### `Transformations` \n",
    "\n",
    "\n",
    "\n",
    "* 1. **Keys**\n",
    "* 2. **Values**\n",
    "* 3. **Group By Key**\n",
    "* 4. **Reduce By Key**\n",
    "* 3. **Join**\n",
    "\n",
    "\n",
    "### `Actions` \n",
    "\n",
    "\n",
    "* 1. **Count By Key**\n",
    "* 2. **Look Up**   \n",
    "    \n",
    "\n",
    "---\n",
    "\n",
    "#### `IMPORTING THE REQUIRED LIBRARIES`\n",
    "\n",
    "---"
   ]
  },
  {
   "cell_type": "markdown",
   "metadata": {},
   "source": [
    "---\n",
    "\n",
    "\n",
    "We have a students data in the file **students_data.txt** which has the 9 different columns. First one is **Roll No**, **Section**, **Name of Student**, **City**, and the last five columns are marks in 5 different subjects. The data of each student is in different row separated by space.\n",
    "\n",
    "---\n",
    "\n",
    "![](images/data_1.png)\n",
    "\n",
    "\n",
    "---\n",
    "\n",
    "\n",
    "#### `Let's start with creating the rdd of the file - students_data.txt`\n",
    "\n",
    "---"
   ]
  },
  {
   "cell_type": "markdown",
   "metadata": {},
   "source": [
    "---\n",
    "\n",
    "Next, We will split each line into a list of words using Map. Let's see how to do this with the help of map transformation in the below cell. \n",
    "\n",
    "---"
   ]
  },
  {
   "cell_type": "markdown",
   "metadata": {},
   "source": [
    "---\n",
    "\n",
    "#### **`On the above dataset, we will try to find out the answers of the following questions using the pair RDDs`**\n",
    "\n",
    "---\n",
    "\n",
    " - How to find out the keys & values of a particular pair RDD?\n",
    " - Find out all the datapoints of the student with roll no 102 & 105?\n",
    " - Find out the number of students from each city?\n",
    " - How to join 2 different pair RDDs?\n",
    " - Find out the number of students in each section?\n",
    "\n",
    "\n",
    "\n",
    "\n",
    "---"
   ]
  },
  {
   "cell_type": "markdown",
   "metadata": {},
   "source": [
    "---\n",
    "\n",
    "#### `How to find out the keys & values of a particular Pair RDD?`\n"
   ]
  },
  {
   "cell_type": "markdown",
   "metadata": {},
   "source": [
    "---\n",
    "\n",
    "We will create the Pair RDD with key as the **roll no** and values as the **section**, **name** & **city**. Let's see how to do that in the below cell.\n",
    "\n",
    "---\n",
    "\n",
    "\n",
    "\n",
    "<center> <img src=\"images/key-value.png\"/> </center>\n",
    "\n",
    "---"
   ]
  },
  {
   "cell_type": "markdown",
   "metadata": {},
   "source": [
    "---\n",
    "\n",
    "#### `Transformation - Keys`\n",
    "\n",
    "The **`Keys`** transformation will give you the keys of the paired RDD. Let's try it for the above paired RDD.\n",
    "\n",
    "---"
   ]
  },
  {
   "cell_type": "markdown",
   "metadata": {},
   "source": [
    "---\n",
    "\n",
    "#### `Transformation - Values`\n",
    "\n",
    "The **`Values`** transformation will give you the values of the paired RDD. Let's try it for the above paired RDD.\n",
    "\n",
    "\n",
    "---"
   ]
  },
  {
   "cell_type": "markdown",
   "metadata": {},
   "source": [
    "---\n",
    "\n",
    "#### `Find out all the datapoints of the student with roll no 102 & 105?`\n",
    "\n"
   ]
  },
  {
   "cell_type": "markdown",
   "metadata": {},
   "source": [
    "---\n",
    "\n",
    "#### `Action - Look Up`\n",
    "\n",
    "The **`Look Up`** Action is used to search for the values of a particular Key. You need to pass the Key in the Look Up function to get the corresponding values.\n",
    "\n",
    "Let's try this out !!\n",
    "\n",
    "---"
   ]
  },
  {
   "cell_type": "markdown",
   "metadata": {},
   "source": [
    "---\n",
    "\n",
    "#### `Find out the number of students from each city?`\n",
    "\n",
    "\n",
    "---\n",
    "\n",
    "First of all, we will see how to do this task without using any pair RDD.\n",
    "\n",
    "---"
   ]
  },
  {
   "cell_type": "markdown",
   "metadata": {},
   "source": [
    "---\n",
    "\n",
    "#### Let's do the same task using the pair RDD.\n"
   ]
  },
  {
   "cell_type": "markdown",
   "metadata": {},
   "source": [
    "---\n",
    "\n",
    "We will create another RDD where key will the City Name and the Values will be the Roll no & Name of the Student.\n",
    "\n",
    "----"
   ]
  },
  {
   "cell_type": "markdown",
   "metadata": {},
   "source": [
    "---\n",
    "\n",
    "#### `Action - Count By Key`\n",
    "\n",
    "The **countByKey** action will return the count of each key. Let's use it in the below cell to find out the number of students from each city.\n",
    "\n",
    "---"
   ]
  },
  {
   "cell_type": "markdown",
   "metadata": {},
   "source": [
    "---\n",
    "\n",
    "\n",
    "#### `How to join 2 different pair RDDs?`\n",
    "\n"
   ]
  },
  {
   "cell_type": "markdown",
   "metadata": {},
   "source": [
    "---\n",
    "\n",
    "Now, assume these students went to write an exam and the result of that exam is stored in another file **results.txt**. It has 3 columns **Roll no**, **Grade** in the exam and **qualified** which has yes/no for whether the exam was cleared or not. \n",
    "\n",
    "---\n",
    "\n",
    "\n",
    "![](images/data_2.png)\n",
    "\n",
    "\n",
    "\n",
    "Let's created an RDD of the file results.txt\n",
    "\n",
    "---"
   ]
  },
  {
   "cell_type": "markdown",
   "metadata": {},
   "source": [
    "---\n",
    "\n",
    "Let's create a paired RDD where key will be the **roll no** and values will be the **grade** and **qualified** column.\n",
    "\n",
    "---"
   ]
  },
  {
   "cell_type": "markdown",
   "metadata": {},
   "source": [
    "---\n",
    "\n",
    "\n",
    "#### `Transformation - Join`\n",
    "\n",
    "Now, we will join the two RDDs using the **`Join`** transformation, the first one is **students_marks_paired_rdd** and another one is **results_paired_rdd**. \n",
    "\n",
    "---"
   ]
  },
  {
   "cell_type": "markdown",
   "metadata": {},
   "source": [
    "---\n",
    "\n",
    "#### `Left Outer Join`\n",
    "\n",
    "We will filter the data from the **student_marks_paired_rdd** and keep the data of section A students only.\n",
    "\n",
    "---"
   ]
  },
  {
   "cell_type": "markdown",
   "metadata": {},
   "source": [
    "---\n",
    "\n",
    "***Now, we will do left outer join on pair rdds, `students_marks_section_a` and `results_pair_rdd`***\n",
    "\n",
    "----"
   ]
  },
  {
   "cell_type": "markdown",
   "metadata": {},
   "source": [
    "---\n",
    "\n",
    "#### `Right Outer Join`\n",
    "\n",
    "We will filter the data from the **results_paired_rdd** and keep the data of the qualified students only.\n",
    "\n",
    "---"
   ]
  },
  {
   "cell_type": "markdown",
   "metadata": {},
   "source": [
    "---\n",
    "\n",
    "***Now, we will do the right outer join on the pair rdds, `students_marks_pair_rdd`  and the `students_qualified`.***\n",
    "\n",
    "---"
   ]
  },
  {
   "cell_type": "markdown",
   "metadata": {},
   "source": []
  }
 ],
 "metadata": {
  "kernelspec": {
   "display_name": "Pyspark 2",
   "language": "python",
   "name": "pyspark2"
  },
  "language_info": {
   "codemirror_mode": {
    "name": "ipython",
    "version": 3
   },
   "file_extension": ".py",
   "mimetype": "text/x-python",
   "name": "python",
   "nbconvert_exporter": "python",
   "pygments_lexer": "ipython3",
   "version": "3.6.8"
  }
 },
 "nbformat": 4,
 "nbformat_minor": 4
}
