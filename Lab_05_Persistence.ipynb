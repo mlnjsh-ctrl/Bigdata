{
 "cells": [
  {
   "cell_type": "markdown",
   "metadata": {},
   "source": [
    "---\n",
    "\n",
    "\n",
    "<center><h1> Persistence in RDDs </h1></center>\n",
    "\n",
    "---\n",
    "\n",
    "* Spark RDD persistence is an optimization technique in which saves the result of RDD evaluation.\n",
    "* There are some advantages of RDD persistence in spark. It makes the whole system\n",
    "  * Time efficient\n",
    "  * Cost efficient\n",
    "\n",
    "----\n",
    "\n",
    "#### `Create the Spark Context`\n",
    "\n",
    "----"
   ]
  },
  {
   "cell_type": "markdown",
   "metadata": {},
   "source": [
    "---\n",
    "\n",
    "In this Notebook, we are going to use 2 different text files\n",
    "\n",
    "* **`student_data.txt`**\n",
    "     * **Roll No**\n",
    "     * **Gender**\n",
    "     * **City**\n",
    "    \n",
    "---    \n",
    "    \n",
    "* **`marks.txt`**\n",
    "     * **Roll No**\n",
    "     * **Subject Code**\n",
    "     * **Marks**\n",
    "    \n",
    "---\n",
    "\n",
    "#### `Read the Student Dataset`\n",
    "\n",
    "--- "
   ]
  },
  {
   "cell_type": "markdown",
   "metadata": {},
   "source": [
    "---\n",
    "\n",
    "Now, in the text file, all the columns are separated by space. So, first we have to use the map function to split it.\n",
    "\n",
    "---\n",
    "\n",
    "#### `Split each row by space`\n",
    "\n",
    "---"
   ]
  },
  {
   "cell_type": "markdown",
   "metadata": {},
   "source": [
    "---\n",
    "\n",
    "Now, we will create the pair RDD of it, making the key as `student roll no` and (`gender`, `city`) as the values.\n",
    "\n",
    "---\n",
    "\n",
    "#### `Creating the Pair RDDs`\n",
    "\n",
    "---"
   ]
  },
  {
   "cell_type": "markdown",
   "metadata": {},
   "source": [
    "---\n",
    "\n",
    "#### `Read the marks data`\n",
    "\n",
    "\n",
    "---"
   ]
  },
  {
   "cell_type": "markdown",
   "metadata": {},
   "source": [
    "---\n",
    "\n",
    "Now, in the text file, all the columns are separated by space. So, first we have to use the map function to split it.\n",
    "\n",
    "---\n",
    "\n",
    "#### `Split each row by space`\n",
    "\n",
    "----"
   ]
  },
  {
   "cell_type": "markdown",
   "metadata": {},
   "source": [
    "---\n",
    "\n",
    "We can see that the marks column in the above RDD is in string format. So, in the next step, we will type cast it into integer and also make it the pair RDD.\n",
    "\n",
    "---\n",
    "\n",
    "#### `Type cast marks into integer and make pair RDD`\n",
    "\n",
    "---"
   ]
  },
  {
   "cell_type": "markdown",
   "metadata": {},
   "source": [
    "---\n",
    "\n",
    "Now, for each roll no, we will find out the total marks and store it in front of each roll no. To do that we will use the `reduceByKey`\n",
    "\n",
    "---"
   ]
  },
  {
   "cell_type": "markdown",
   "metadata": {},
   "source": [
    "---\n",
    "\n",
    "#### `Join the two Pair RDDS`\n",
    "\n",
    "---\n",
    "\n",
    "Next, we will join the 2 pair RDDs, `students_data` & `total_marks`.\n",
    "\n",
    "\n",
    "---"
   ]
  },
  {
   "cell_type": "markdown",
   "metadata": {},
   "source": [
    "---\n",
    "\n",
    "So, far we have done the following transformations on 2 different datasets.\n",
    "\n",
    "---\n",
    "\n",
    "![](images/level-1.png)\n",
    "\n",
    "---"
   ]
  },
  {
   "cell_type": "markdown",
   "metadata": {},
   "source": [
    "---\n",
    "\n",
    "### Now, we will do 2 more transformations on the joined data.\n",
    "\n",
    "   - We will find out the data of the `female` students.\n",
    "   - Next, we will find out the data of `female` students who are from `Pune`\n",
    "\n",
    "---"
   ]
  },
  {
   "cell_type": "markdown",
   "metadata": {},
   "source": [
    "---\n",
    "\n",
    "![](images/level-2.png)\n",
    "\n",
    "---"
   ]
  },
  {
   "cell_type": "markdown",
   "metadata": {},
   "source": [
    "---\n",
    "\n",
    "#### `Data of female students`\n",
    "\n",
    "---"
   ]
  },
  {
   "cell_type": "markdown",
   "metadata": {},
   "source": [
    "---\n",
    "\n",
    "![](images/female_data_1.png)\n",
    "\n",
    "---"
   ]
  },
  {
   "cell_type": "markdown",
   "metadata": {},
   "source": [
    "---\n",
    "\n",
    "\n",
    "\n",
    "---\n",
    "\n",
    "#### `Data of female students from Pune`\n",
    "\n",
    "---"
   ]
  },
  {
   "cell_type": "markdown",
   "metadata": {},
   "source": [
    "---\n",
    "\n",
    "![](images/female_from_pune_1.png)\n",
    "\n",
    "---"
   ]
  },
  {
   "cell_type": "markdown",
   "metadata": {},
   "source": [
    "----\n",
    "\n",
    "Now, we can do a lot of things on the joined pair RDD like - \n",
    "\n",
    "* Find out the number of students from Mumbai?\n",
    "* Find out the number of Male students from Gurugram?\n",
    "* Find out the average marks of male & female students?\n",
    "* Find out the top 10 students in Pune?\n",
    "\n",
    "And a lot more. So, let's try to persist the joined Pair RDD so that it will take less time to compute the same operations.\n",
    "\n",
    "\n",
    "----\n",
    "\n",
    "\n",
    "#### `Persist the Joined Pair RDD`\n",
    "\n",
    "\n",
    "\n",
    "----"
   ]
  },
  {
   "cell_type": "markdown",
   "metadata": {},
   "source": [
    "---\n",
    "\n",
    "![](images/level-3.png)\n",
    "\n",
    "---"
   ]
  },
  {
   "cell_type": "markdown",
   "metadata": {},
   "source": [
    "---\n",
    "\n",
    "**Now, we will do the same transformations on the persisted RDD**\n",
    "\n",
    " - We will find out the data of the `female` students.\n",
    " - Next, we will find out the data of `female` students who are from `Pune`\n",
    "\n",
    "\n",
    "---\n",
    "\n",
    "#### `Data of female students from persisted RDD`\n",
    "\n",
    "---"
   ]
  },
  {
   "cell_type": "markdown",
   "metadata": {},
   "source": [
    "---\n",
    "\n",
    "![](images/data_of_female_persist_1.png)\n",
    "\n",
    "---"
   ]
  },
  {
   "cell_type": "markdown",
   "metadata": {},
   "source": [
    "---\n",
    "\n",
    "![](images/data_with_female_persist_again.png)\n",
    "\n",
    "----"
   ]
  },
  {
   "cell_type": "markdown",
   "metadata": {},
   "source": [
    "----\n",
    "\n",
    "#### `Data of female students from Pune from persisted RDD`\n",
    "\n",
    "---"
   ]
  },
  {
   "cell_type": "markdown",
   "metadata": {},
   "source": [
    "---\n",
    "\n",
    "![](images/data_of_pune_persist_1.png)\n",
    "\n",
    "\n",
    "---"
   ]
  }
 ],
 "metadata": {
  "kernelspec": {
   "display_name": "Python 3",
   "language": "python",
   "name": "python3"
  },
  "language_info": {
   "codemirror_mode": {
    "name": "ipython",
    "version": 3
   },
   "file_extension": ".py",
   "mimetype": "text/x-python",
   "name": "python",
   "nbconvert_exporter": "python",
   "pygments_lexer": "ipython3",
   "version": "3.7.5"
  }
 },
 "nbformat": 4,
 "nbformat_minor": 2
}
