{
 "cells": [
  {
   "cell_type": "markdown",
   "metadata": {},
   "source": [
    "---\n",
    "---\n",
    "\n",
    "<center> <h1> Transformations & Actions on RDDs </h1> </center>\n",
    "\n",
    "In the notebook, we will implement different transformations and actions using Python.\n",
    "\n",
    "\n",
    "\n",
    "### `Transformations` \n",
    "\n",
    "\n",
    "We will do the following transformations in this notebook:\n",
    "\n",
    "* 1. **Map**\n",
    "* 2. **FlatMap**\n",
    "* 3. **Filter**\n",
    "* 4. **Distinct**\n",
    "* 5. **Union**\n",
    "* 6. **Intersection**\n",
    "\n",
    "\n",
    "### `Actions` \n",
    "\n",
    "\n",
    "We will do the following Actions in this notebook:\n",
    "\n",
    "* 1. **Collect**\n",
    "* 2. **Take**\n",
    "* 3. **Count**\n",
    "\n",
    "\n",
    "\n",
    "---\n",
    "\n",
    "\n",
    "### `IMPORTING THE REQUIRED LIBRARIES`\n",
    "\n",
    "---"
   ]
  },
  {
   "cell_type": "markdown",
   "metadata": {},
   "source": [
    "---\n",
    "---\n",
    "#### ` Problem Statement`\n",
    "\n",
    "Suppose there is an orgranization name **`Analytics 20`**. It has 2 different branches, one in **`India`** and another one is in **`Dubai`** We have generated a random data of the employees of this organization. One file **`analytics_20_india.txt`** contains the data of employees of India and another one **`analytics_20_dubai.txt`** that contains the data of employees of Dubai. \n",
    "\n",
    "Each line of the both the files contains 3 columns. First one is `Name of the employee`, second one is `Department Name` in which he/she works and last one is `Place Name` to which the employee belongs. Data is as shown below - \n",
    "\n",
    "<center><img src=\"images/rdd_op_dataset.png\"></center>\n",
    "\n",
    "---\n",
    "---\n",
    "\n",
    "#### `Reading the file - analytics_20_india.txt`\n",
    "\n",
    "---"
   ]
  },
  {
   "cell_type": "markdown",
   "metadata": {},
   "source": [
    "---\n",
    "##### Once we read the file in the spark, it has been converted into an RDD. \n",
    "\n",
    "---\n",
    "---\n",
    "\n",
    "#### `Action - collect` \n",
    "\n",
    "**collect** action will return the complete output.\n",
    "\n",
    "---"
   ]
  },
  {
   "cell_type": "markdown",
   "metadata": {},
   "source": [
    "---\n",
    "---\n",
    "#### `Action - take`\n",
    "\n",
    "**take** action will return the top n (takes an integer as a parameter) results of the query. It the similar to the head funciton of pandas.\n",
    "\n",
    "\n",
    "---"
   ]
  },
  {
   "cell_type": "markdown",
   "metadata": {},
   "source": [
    "---\n",
    "---\n",
    "#### `Transformation - map`\n",
    "\n",
    "**map** transformation does the same operation on each of the object. \n",
    "\n",
    "We will split each line into a list of words using **map**.\n",
    "\n",
    "---"
   ]
  },
  {
   "cell_type": "markdown",
   "metadata": {},
   "source": [
    "---\n",
    "---\n",
    "#### `Transformation - distinct`\n",
    "\n",
    "**distinct** is used to find the unique elements in the RDD.\n",
    "\n",
    "Find out the list of unique places of origin of the employees in the India branch.\n",
    "\n",
    "---"
   ]
  },
  {
   "cell_type": "markdown",
   "metadata": {},
   "source": [
    "---\n",
    "---\n",
    "\n",
    "#### `Transformation - filter`\n",
    "\n",
    "**filter** transformation only returns the elements which satisfies the given condition. \n",
    "\n",
    "Find out the data of the people who belong to the **India**.\n",
    "\n",
    "\n",
    "---"
   ]
  },
  {
   "cell_type": "markdown",
   "metadata": {},
   "source": [
    "---\n",
    "\n",
    "Let's find out the data of the people who belongs to **Dubai** and are in **HR** department.\n",
    "\n",
    "---"
   ]
  },
  {
   "cell_type": "markdown",
   "metadata": {},
   "source": [
    "---\n",
    "---\n",
    "\n",
    "#### `Transformation - flatmap`\n",
    "\n",
    "* We saw **map** function does a one-to-one transformation. \n",
    "> * It transforms each element of a collection into one element of the resulting collection. \n",
    "\n",
    "<center><img src =\"images/map_transformation.png\"></center>\n",
    "\n",
    "* In the **flatmap** transformation, we will see that instead of multiple lists of each line it will return a single list of output. \n",
    "> * Spark **flatMap** function expresses a one-to-many transformation.\n",
    "\n",
    "Let's see the difference.\n",
    "\n",
    "---"
   ]
  },
  {
   "cell_type": "markdown",
   "metadata": {},
   "source": [
    "---\n",
    "---\n",
    "\n",
    "#### `Transformation - union`\n",
    "\n",
    "Use **union** transformation to find out all the places of origin from both branches - India and Dubai.\n",
    "\n",
    "---"
   ]
  },
  {
   "cell_type": "markdown",
   "metadata": {},
   "source": [
    "---\n",
    "---\n",
    "\n",
    "#### `Transformation - intersection`\n",
    "\n",
    "Use **intersection** transformation to find out the common places of origin of the employees from both branches - India and Dubai. \n",
    "\n",
    "---"
   ]
  }
 ],
 "metadata": {
  "kernelspec": {
   "display_name": "Python 3 (ipykernel)",
   "language": "python",
   "name": "python3"
  },
  "language_info": {
   "codemirror_mode": {
    "name": "ipython",
    "version": 3
   },
   "file_extension": ".py",
   "mimetype": "text/x-python",
   "name": "python",
   "nbconvert_exporter": "python",
   "pygments_lexer": "ipython3",
   "version": "3.11.5"
  }
 },
 "nbformat": 4,
 "nbformat_minor": 4
}
